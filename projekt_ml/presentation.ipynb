{
 "cells": [
  {
   "cell_type": "markdown",
   "metadata": {},
   "source": [
    "## ESPERANTO - Machine Learning Project\n",
    "\n",
    "TEAM: Karolina Wojciechowska, Justyna Krygier, Karol Mularski, Łukasz Rosenkiewicz\n",
    "\n",
    "DATASET: https://archive.ics.uci.edu/ml/datasets/Concrete+Compressive+Strength"
   ]
  },
  {
   "cell_type": "markdown",
   "metadata": {},
   "source": [
    "![uci](refs/UCI.jpg)"
   ]
  },
  {
   "cell_type": "code",
   "execution_count": 49,
   "metadata": {},
   "outputs": [],
   "source": [
    "import pandas as pd\n",
    "import numpy as np\n",
    "import matplotlib.pyplot as plt\n",
    "from sklearn.model_selection import train_test_split\n",
    "from sklearn import linear_model\n",
    "from sklearn import metrics\n",
    "from sklearn.preprocessing import Imputer\n",
    "from sklearn.metrics import mean_absolute_error, make_scorer, mean_squared_error, accuracy_score\n",
    "from sklearn.model_selection import cross_val_score, KFold\n",
    "from sklearn.tree import DecisionTreeRegressor\n",
    "from xgboost import XGBRegressor\n",
    "from sklearn.svm import SVR\n",
    "from sklearn import svm\n",
    "import sys\n",
    "import warnings\n",
    "\n",
    "warnings.filterwarnings(\"ignore\")\n",
    "\n",
    "pd.set_option('display.max_columns',10)\n",
    "dataset = pd.read_csv('jdsz2-esperanto/projekt_ml/Concrete_Data.csv',quotechar='\"', decimal=',', skipinitialspace=True)"
   ]
  },
  {
   "cell_type": "markdown",
   "metadata": {},
   "source": [
    "# Dataset Features"
   ]
  },
  {
   "cell_type": "markdown",
   "metadata": {},
   "source": [
    "![summary](refs/summary.png)"
   ]
  },
  {
   "cell_type": "code",
   "execution_count": 50,
   "metadata": {},
   "outputs": [],
   "source": [
    "columns_to_model = ['Cement', 'Blast Furnace Slag', 'Fly Ash', 'Water', 'Superplasticizer',\n",
    "                    'Coarse Aggregate', 'Fine Aggregate', 'Age']\n",
    "X = dataset[columns_to_model]\n",
    "y = dataset['Concrete compressive strength']"
   ]
  },
  {
   "cell_type": "code",
   "execution_count": 51,
   "metadata": {},
   "outputs": [],
   "source": [
    "for i in columns_to_model:\n",
    "    fig = plt.figure(figsize=plt.figaspect(0.1))\n",
    "    plt.scatter(y, X[i], cmap=plt.cm.Set1, edgecolor='c', s=4, label=i)\n",
    "    plt.title(i)\n",
    "    plt.xlabel('Concrete compressive strength')\n",
    "    plt.show()"
   ]
  },
  {
   "cell_type": "markdown",
   "metadata": {},
   "source": [
    "# Split the dataset - 75 % - 25%"
   ]
  },
  {
   "cell_type": "code",
   "execution_count": 52,
   "metadata": {},
   "outputs": [],
   "source": [
    "X_train,X_test,y_train,y_test = train_test_split(X,y,test_size=0.25, random_state=101)"
   ]
  },
  {
   "cell_type": "markdown",
   "metadata": {},
   "source": [
    "## Create cross validations parameters"
   ]
  },
  {
   "cell_type": "code",
   "execution_count": 53,
   "metadata": {},
   "outputs": [],
   "source": [
    "my_imputer = Imputer()\n",
    "train_X = my_imputer.fit_transform(X_train)\n",
    "test_X = my_imputer.transform(X_test)\n",
    "\n",
    "kfold = KFold(n_splits=20, random_state=11)\n",
    "\n",
    "scorer_MAE = make_scorer(mean_absolute_error)\n",
    "scorer_MSE = make_scorer(mean_squared_error)\n"
   ]
  },
  {
   "cell_type": "markdown",
   "metadata": {},
   "source": [
    "###  1 - Linear Regression"
   ]
  },
  {
   "cell_type": "code",
   "execution_count": 55,
   "metadata": {},
   "outputs": [
    {
     "name": "stdout",
     "output_type": "stream",
     "text": [
      "----------- Prediction Results -----------\nIntercept: 0.6134260453019635\nCoefficient: [ 0.11007688  0.09264964  0.07763273 -0.17116918  0.25388462  0.00775027\n  0.01209442  0.12341469]\nR^2: 0.6101732771570201\nMean Absolute Error: 8.655951386743029\nMean Squared Error: 123.62476413932495\nMedian Absolute Error: 6.489059453445069\n\n----------- Cross Validation -----------\nMean_MAE:  8.16944236638988\nMean_MSE:  105.84415451783704\n"
     ]
    }
   ],
   "source": [
    "regr = linear_model.LinearRegression(normalize=True)\n",
    "regr.fit(X_train, y_train)\n",
    "y_pred = regr.predict(X_test)\n",
    "\n",
    "print('----------- Prediction Results -----------')\n",
    "print('Intercept:', regr.intercept_)\n",
    "print('Coefficient:', regr.coef_)\n",
    "print('R^2:', metrics.r2_score(y_test, y_pred))\n",
    "print('Mean Absolute Error:', metrics.mean_absolute_error(y_test, y_pred))\n",
    "print('Mean Squared Error:', metrics.mean_squared_error(y_test, y_pred))\n",
    "print('Median Absolute Error:', metrics.median_absolute_error(y_test, y_pred))\n",
    "\n",
    "print()\n",
    "print('----------- Cross Validation -----------')\n",
    "results_MAE = cross_val_score(regr, X_train, y_train, cv=kfold, scoring=scorer_MAE)\n",
    "results_MSE = cross_val_score(regr, X_train, y_train, cv=kfold, scoring=scorer_MSE)\n",
    "\n",
    "print('Mean_MAE:  {}'.format((results_MAE.mean())))\n",
    "print('Mean_MSE:  {}'.format((results_MSE.mean())))"
   ]
  },
  {
   "cell_type": "markdown",
   "metadata": {},
   "source": [
    "###  2 - DecisionTreeRegressor"
   ]
  },
  {
   "cell_type": "code",
   "execution_count": 56,
   "metadata": {},
   "outputs": [
    {
     "name": "stdout",
     "output_type": "stream",
     "text": [
      "For max features: 1    Mean Absolute Error:  5.9309    R^2:  0.7310543598910371\nFor max features: 2    Mean Absolute Error:  3.994    R^2:  0.8646517920752604\nFor max features: 3    Mean Absolute Error:  4.5364    R^2:  0.8519554010611224\nFor max features: 4    Mean Absolute Error:  4.3782    R^2:  0.8425939148005963\nFor max features: 5    Mean Absolute Error:  4.7319    R^2:  0.8235968772020658\nFor max features: 6    Mean Absolute Error:  4.4114    R^2:  0.8508883222769608\nFor max features: 7    Mean Absolute Error:  4.4832    R^2:  0.8284219953076548\nFor max features: 8    Mean Absolute Error:  4.4599    R^2:  0.8369044974928705\n"
     ]
    }
   ],
   "source": [
    "for max_features in [1,2,3,4,5,6,7,8]:\n",
    "    dtree = DecisionTreeRegressor(max_features=max_features, random_state=None, max_depth=None,\n",
    "                                  min_samples_split=2, min_samples_leaf=1, min_weight_fraction_leaf=0.0)\n",
    "    dtree.fit(X_train, y_train)\n",
    "    y_pred_tree = dtree.predict(X_test)\n",
    "    mae = mean_absolute_error(y_test, y_pred_tree)\n",
    "    r2 = metrics.r2_score(y_test, y_pred_tree)\n",
    "    print('For max features: {}    Mean Absolute Error:  {}    R^2:  {}'.format(max_features, np.around(mae,decimals=4), r2))"
   ]
  },
  {
   "cell_type": "markdown",
   "metadata": {},
   "source": [
    "#### Cross Validation"
   ]
  },
  {
   "cell_type": "code",
   "execution_count": 61,
   "metadata": {},
   "outputs": [
    {
     "name": "stdout",
     "output_type": "stream",
     "text": [
      "Mean_MAE: 4.311966767881242\nMean_MSE: 41.254927305161935\n"
     ]
    }
   ],
   "source": [
    "results_MAE = cross_val_score(dtree, X_train, y_train, cv=kfold, scoring=scorer_MAE)\n",
    "results_MSE = cross_val_score(dtree, X_train, y_train, cv=kfold, scoring=scorer_MSE)\n",
    "\n",
    "print('Mean_MAE: {}'.format(results_MAE.mean()))\n",
    "print('Mean_MSE: {}'.format(results_MSE.mean()))"
   ]
  },
  {
   "cell_type": "markdown",
   "metadata": {},
   "source": [
    "### 3 - XGBoost"
   ]
  },
  {
   "cell_type": "code",
   "execution_count": 63,
   "metadata": {},
   "outputs": [
    {
     "name": "stdout",
     "output_type": "stream",
     "text": [
      "Mean Absolute Error: 3.9290020516861315\n"
     ]
    }
   ],
   "source": [
    "clf_xgbr = XGBRegressor()\n",
    "clf_xgbr.fit(X_train, y_train, verbose=False)\n",
    "\n",
    "y_pred_xgb = clf_xgbr.predict(X_test)\n",
    "print('Mean Absolute Error: ' + str(mean_absolute_error(y_pred_xgb, y_test)))"
   ]
  },
  {
   "cell_type": "markdown",
   "metadata": {},
   "source": [
    "#### Cross Validation"
   ]
  },
  {
   "cell_type": "code",
   "execution_count": 64,
   "metadata": {},
   "outputs": [
    {
     "name": "stdout",
     "output_type": "stream",
     "text": [
      "Mean_MAE:  3.820051446937838\nMean_MSE:  26.640470626183504\n"
     ]
    }
   ],
   "source": [
    "results_MAE = cross_val_score(clf_xgbr, X_train, y_train, cv=kfold, scoring=scorer_MAE)\n",
    "results_MSE = cross_val_score(clf_xgbr, X_train, y_train, cv=kfold, scoring=scorer_MSE)\n",
    "\n",
    "print('Mean_MAE:  {}'.format((results_MAE.mean())))\n",
    "print('Mean_MSE:  {}'.format((results_MSE.mean())))"
   ]
  },
  {
   "cell_type": "markdown",
   "metadata": {},
   "source": [
    "### 4 - SVR"
   ]
  },
  {
   "cell_type": "code",
   "execution_count": 66,
   "metadata": {},
   "outputs": [
    {
     "name": "stdout",
     "output_type": "stream",
     "text": [
      "R^2: 0.5161990265446725\nMean Squared Error: 153.42658091164702\nMean Absolute Error: 8.689916245057379\nMedian Absolute Error: 5.960881981768614\n"
     ]
    }
   ],
   "source": [
    "svr_lin = svm.SVR(kernel='linear')\n",
    "svr_lin.fit(X_train, y_train)\n",
    "y_lin = svr_lin.predict(X_test)\n",
    "\n",
    "print('R^2:', metrics.r2_score(y_test, y_lin))\n",
    "print('Mean Squared Error:', metrics.mean_squared_error(y_test, y_lin))\n",
    "print('Mean Absolute Error:', metrics.mean_absolute_error(y_test, y_lin))\n",
    "print('Median Absolute Error:', metrics.median_absolute_error(y_test, y_lin))"
   ]
  },
  {
   "cell_type": "code",
   "execution_count": null,
   "metadata": {},
   "outputs": [],
   "source": []
  }
 ],
 "metadata": {
  "kernelspec": {
   "display_name": "Python 3",
   "language": "python",
   "name": "python3"
  },
  "language_info": {
   "codemirror_mode": {
    "name": "ipython",
    "version": 3
   },
   "file_extension": ".py",
   "mimetype": "text/x-python",
   "name": "python",
   "nbconvert_exporter": "python",
   "pygments_lexer": "ipython3",
   "version": "3.7.1"
  }
 },
 "nbformat": 4,
 "nbformat_minor": 1
}

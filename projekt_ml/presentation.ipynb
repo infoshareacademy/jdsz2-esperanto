{
 "cells": [
  {
   "cell_type": "markdown",
   "metadata": {},
   "source": [
    "## ESPERANTO - Machine Learning Project\n",
    "\n",
    "TEAM: Karolina Wojciechowska, Justyna Krygier, Karol Mularski, Łukasz Rosenkiewicz\n",
    "\n",
    "DATASET: https://archive.ics.uci.edu/ml/datasets/Concrete+Compressive+Strength"
   ]
  },
  {
   "cell_type": "markdown",
   "metadata": {},
   "source": [
    "![uci](refs/UCI.jpg)"
   ]
  },
  {
   "cell_type": "code",
   "execution_count": 17,
   "metadata": {},
   "outputs": [],
   "source": [
    "import pandas as pd\n",
    "import numpy as np\n",
    "import matplotlib.pyplot as plt\n",
    "from sklearn.model_selection import train_test_split\n",
    "from sklearn import linear_model\n",
    "from sklearn import metrics\n",
    "from sklearn.preprocessing import Imputer\n",
    "from sklearn.metrics import mean_absolute_error, make_scorer, accuracy_score\n",
    "from sklearn.model_selection import cross_val_score, KFold\n",
    "from sklearn.tree import DecisionTreeRegressor\n",
    "from xgboost import XGBRegressor\n",
    "from sklearn import svm\n",
    "import warnings\n",
    "warnings.filterwarnings(\"ignore\")"
   ]
  },
  {
   "cell_type": "markdown",
   "metadata": {},
   "source": [
    "# Dataset Features"
   ]
  },
  {
   "cell_type": "markdown",
   "metadata": {},
   "source": [
    "![summary](refs/summary.png)"
   ]
  },
  {
   "cell_type": "code",
   "execution_count": 18,
   "metadata": {},
   "outputs": [],
   "source": [
    "dataset = pd.read_csv('jdsz2-esperanto/projekt_ml/Concrete_Data.csv',quotechar='\"', decimal=',', skipinitialspace=True)\n",
    "columns_to_model = ['Cement', 'Blast Furnace Slag', 'Fly Ash', 'Water', 'Superplasticizer',\n",
    "                    'Coarse Aggregate', 'Fine Aggregate', 'Age']\n",
    "X = dataset[columns_to_model]\n",
    "y = dataset['Concrete compressive strength']"
   ]
  },
  {
   "cell_type": "code",
   "execution_count": 19,
   "metadata": {},
   "outputs": [],
   "source": [
    "for i in columns_to_model:\n",
    "    fig = plt.figure(figsize=plt.figaspect(0.1))\n",
    "    plt.scatter(y, X[i], cmap=plt.cm.Set1, edgecolor='c', s=4, label=i)\n",
    "    plt.title(i)\n",
    "    plt.xlabel('Concrete compressive strength')\n",
    "    plt.show()"
   ]
  },
  {
   "cell_type": "markdown",
   "metadata": {},
   "source": [
    "## Split the dataset - 75 % - 25%"
   ]
  },
  {
   "cell_type": "code",
   "execution_count": 20,
   "metadata": {},
   "outputs": [],
   "source": [
    "X_train,X_test,y_train,y_test = train_test_split(X,y,test_size=0.25, random_state=101)"
   ]
  },
  {
   "cell_type": "markdown",
   "metadata": {},
   "source": [
    "## Create Mean Absolute Percentage Error function"
   ]
  },
  {
   "cell_type": "code",
   "execution_count": 21,
   "metadata": {},
   "outputs": [],
   "source": [
    "def mean_absolute_percentage_error(y_test, y_pred): \n",
    "    y_test, y_pred = np.array(y_test), np.array(y_pred)\n",
    "    return np.mean(np.abs((y_test - y_pred) / y_test)) * 100"
   ]
  },
  {
   "cell_type": "markdown",
   "metadata": {},
   "source": [
    "## Regression Models"
   ]
  },
  {
   "cell_type": "code",
   "execution_count": 22,
   "metadata": {},
   "outputs": [],
   "source": [
    "## LINEAR REGRESSION\n",
    "regr = linear_model.LinearRegression(normalize=True)\n",
    "regr.fit(X_train, y_train)\n",
    "y_pred_lin = regr.predict(X_test)\n",
    "\n",
    "## XGBoost\n",
    "clf_xgbr = XGBRegressor()\n",
    "clf_xgbr.fit(X_train, y_train, verbose=False)\n",
    "y_pred_xgb = clf_xgbr.predict(X_test)\n",
    "\n",
    "## SVR - 2 kernels\n",
    "svr_lin = svm.SVR(kernel='linear')\n",
    "svr_lin.fit(X_train, y_train)\n",
    "y_pred_svrlin = svr_lin.predict(X_test)\n",
    "\n",
    "svr_rbf = svm.SVR(kernel='rbf', C=1e3, gamma=0.1)\n",
    "svr_rbf.fit(X_train, y_train)\n",
    "y_pred_svrrbf = svr_rbf.predict(X_test)\n",
    "\n",
    "## Decision Tree\n",
    "for max_features in [1,2,3,4,5,6,7,8]:\n",
    "    dtree = DecisionTreeRegressor(max_features=max_features, random_state=None, max_depth=None,\n",
    "                                  min_samples_split=2, min_samples_leaf=1, min_weight_fraction_leaf=0.0)\n",
    "    dtree.fit(X_train, y_train)\n",
    "    y_pred_tree = dtree.predict(X_test)\n",
    "    \n",
    "    mae = mean_absolute_error(y_test, y_pred_tree)\n",
    "    r2 = metrics.r2_score(y_test, y_pred_tree)\n",
    " #   print('For max features: {}    Mean Absolute Error:  {}    R^2:  {}'.format(max_features, np.around(mae,decimals=4),r2))\n"
   ]
  },
  {
   "cell_type": "markdown",
   "metadata": {},
   "source": [
    "### Prediction Results"
   ]
  },
  {
   "cell_type": "code",
   "execution_count": 23,
   "metadata": {},
   "outputs": [
    {
     "name": "stdout",
     "output_type": "stream",
     "text": [
      "R^2_RL          :   0.6101732771570201\nR^2_XGb       :   0.9063913725938589\nR^2_SVRLin   :   0.5161990265446725\nR^2_SVRrbf   :   0.292472290460113\nR^2_DTree     :   0.8352655140924142\n\nMean Absolute Error_RL          :   8.655951386743029\nMean Absolute Error_XGb       :   3.9290020516861315\nMean Absolute Error_SVRlin    :   8.689916245057379\nMean Absolute Error_SVRrbf   :   10.977198973850978\nMean Absolute Error_DTree    :   4.517228682170542\n\nMean Absolute % Error_RL          :   31.73687243052431\nMean Absolute % Error_XGb       :   12.633529968384455\nMean Absolute % Error_SVRlin   :   30.762259295344997\nMean Absolute % Error_SVRrbf   :   47.1005207910189\nMean Absolute % Error_DTree    :   14.436364696144603\n"
     ]
    }
   ],
   "source": [
    "print('R^2_RL          :  ', metrics.r2_score(y_test, y_pred_lin))\n",
    "print('R^2_XGb       :  ', metrics.r2_score(y_test, y_pred_xgb))\n",
    "print('R^2_SVRLin   :  ', metrics.r2_score(y_test, y_pred_svrlin))\n",
    "print('R^2_SVRrbf   :  ', metrics.r2_score(y_test, y_pred_svrrbf))\n",
    "print('R^2_DTree     :  ', metrics.r2_score(y_test, y_pred_tree))\n",
    "print()\n",
    "print('Mean Absolute Error_RL          :  ', metrics.mean_absolute_error(y_test, y_pred_lin))\n",
    "print('Mean Absolute Error_XGb       :  ', metrics.mean_absolute_error(y_test, y_pred_xgb))\n",
    "print('Mean Absolute Error_SVRlin    :  ', metrics.mean_absolute_error(y_test, y_pred_svrlin))\n",
    "print('Mean Absolute Error_SVRrbf   :  ', metrics.mean_absolute_error(y_test, y_pred_svrrbf))\n",
    "print('Mean Absolute Error_DTree    :  ', metrics.mean_absolute_error(y_test, y_pred_tree))\n",
    "print()\n",
    "print('Mean Absolute % Error_RL          :  ', mean_absolute_percentage_error(y_test, y_pred_lin))\n",
    "print('Mean Absolute % Error_XGb       :  ', mean_absolute_percentage_error(y_test, y_pred_xgb))\n",
    "print('Mean Absolute % Error_SVRlin   :  ', mean_absolute_percentage_error(y_test, y_pred_svrlin))\n",
    "print('Mean Absolute % Error_SVRrbf   :  ', mean_absolute_percentage_error(y_test, y_pred_svrrbf))\n",
    "print('Mean Absolute % Error_DTree    :  ', mean_absolute_percentage_error(y_test, y_pred_tree))"
   ]
  },
  {
   "cell_type": "markdown",
   "metadata": {},
   "source": [
    "## Cross validation"
   ]
  },
  {
   "cell_type": "markdown",
   "metadata": {},
   "source": [
    "### Parameters"
   ]
  },
  {
   "cell_type": "code",
   "execution_count": 24,
   "metadata": {},
   "outputs": [],
   "source": [
    "my_imputer = Imputer()\n",
    "train_X = my_imputer.fit_transform(X_train)\n",
    "test_X = my_imputer.transform(X_test)\n",
    "\n",
    "kfold = KFold(n_splits=20, random_state=11)\n",
    "\n",
    "scorer_MAE = make_scorer(mean_absolute_error)\n",
    "scorer_MAPE = make_scorer(mean_absolute_percentage_error)"
   ]
  },
  {
   "cell_type": "markdown",
   "metadata": {},
   "source": [
    "### Cross Validation Results"
   ]
  },
  {
   "cell_type": "markdown",
   "metadata": {},
   "source": [
    "##### --- Mean Absolute Error ---"
   ]
  },
  {
   "cell_type": "code",
   "execution_count": null,
   "metadata": {},
   "outputs": [],
   "source": [
    "# results_MAE_regr   = cross_val_score(regr, X_train, y_train, cv=kfold, scoring=scorer_MAE)\n",
    "# results_MAE_XGb    = cross_val_score(clf_xgbr, X_train, y_train, cv=kfold, scoring=scorer_MAE)\n",
    "# results_MAE_SVRlin = cross_val_score(svr_lin, X_train, y_train, cv=kfold, scoring=scorer_MAE)\n",
    "# results_MAE_SVRrbf = cross_val_score(svr_rbf, X_train, y_train, cv=kfold, scoring=scorer_MAE)\n",
    "# results_MAE_DTree  = cross_val_score(dtree, X_train, y_train, cv=kfold, scoring=scorer_MAE)"
   ]
  },
  {
   "cell_type": "code",
   "execution_count": null,
   "metadata": {},
   "outputs": [],
   "source": [
    "# print('Mean_MAE_RL : {}'.format(results_MAE_regr.mean()))\n",
    "# print('Mean_MAE_XGb : {}'.format(results_MAE_XGb.mean()))\n",
    "# print('Mean_MAE_SVRlin : {}'.format(results_MAE_SVRlin.mean()))\n",
    "# print('Mean_MAE_SVRrbf : {}'.format(results_MAE_SVRrbf.mean()))\n",
    "# print('Mean_MAE_DTree : {}'.format(results_MAE_DTree.mean()))"
   ]
  },
  {
   "cell_type": "markdown",
   "metadata": {},
   "source": [
    "![cross_val_mae](refs/cross_val_mae.png)"
   ]
  },
  {
   "cell_type": "markdown",
   "metadata": {},
   "source": [
    "##### --- Mean Absolute Percentage Error ---"
   ]
  },
  {
   "cell_type": "code",
   "execution_count": null,
   "metadata": {},
   "outputs": [],
   "source": [
    "# results_MAPE_regr = cross_val_score(regr, X_train, y_train, cv=kfold, scoring=scorer_MAPE)\n",
    "# results_MAPE_XGb = cross_val_score(clf_xgbr, X_train, y_train, cv=kfold, scoring=scorer_MAPE)\n",
    "# results_MAPE_SVRlin = cross_val_score(svr_lin, X_train, y_train, cv=kfold, scoring=scorer_MAPE)\n",
    "# results_MAPE_SVRrbf = cross_val_score(svr_rbf, X_train, y_train, cv=kfold, scoring=scorer_MAPE)\n",
    "# results_MAPE_DTree = cross_val_score(dtree, X_train, y_train, cv=kfold, scoring=scorer_MAPE)"
   ]
  },
  {
   "cell_type": "code",
   "execution_count": null,
   "metadata": {},
   "outputs": [],
   "source": [
    "# print('Mean_MAPE_RL : {}'.format(results_MAPE_regr.mean()))\n",
    "# print('Mean_MAPE_XGb    : {}'.format(results_MAPE_XGb.mean()))\n",
    "# print('Mean_MAPE_SVRlin : {}'.format(results_MAPE_SVRlin.mean()))\n",
    "# print('Mean_MAPE_SVRrbf : {}'.format(results_MAPE_SVRrbf.mean()))\n",
    "# print('Mean_MAPE_DTree : {}'.format(results_MAPE_DTree.mean()))"
   ]
  },
  {
   "cell_type": "markdown",
   "metadata": {},
   "source": [
    "![cross_val_mape](refs/cross_val_mape.png)"
   ]
  },
  {
   "cell_type": "code",
   "execution_count": 16,
   "metadata": {},
   "outputs": [],
   "source": [
    ""
   ]
  },
  {
   "cell_type": "code",
   "execution_count": 16,
   "metadata": {},
   "outputs": [],
   "source": []
  },
  {
   "cell_type": "code",
   "execution_count": null,
   "metadata": {},
   "outputs": [],
   "source": []
  }
 ],
 "metadata": {
  "kernelspec": {
   "display_name": "Python 3",
   "language": "python",
   "name": "python3"
  },
  "language_info": {
   "codemirror_mode": {
    "name": "ipython",
    "version": 3
   },
   "file_extension": ".py",
   "mimetype": "text/x-python",
   "name": "python",
   "nbconvert_exporter": "python",
   "pygments_lexer": "ipython3",
   "version": "3.7.1"
  }
 },
 "nbformat": 4,
 "nbformat_minor": 1
}
